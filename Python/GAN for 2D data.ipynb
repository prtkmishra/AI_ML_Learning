{
 "cells": [
  {
   "cell_type": "code",
   "execution_count": 2,
   "id": "e8fdb695",
   "metadata": {},
   "outputs": [
    {
     "name": "stdout",
     "output_type": "stream",
     "text": [
      "Collecting torch\n",
      "\u001b[?25l  Downloading https://files.pythonhosted.org/packages/98/71/b1aeecd8bf033a163dc03c24ceba0952107afb515a7a767f3fb8694d835c/torch-1.9.0-cp38-none-macosx_10_9_x86_64.whl (127.9MB)\n",
      "\u001b[K     |████████████████████████████████| 127.9MB 52kB/s s eta 0:00:01  |                                | 194kB 6.8MB/s eta 0:00:19     |████▌                           | 18.1MB 9.9MB/s eta 0:00:12     |█████▌                          | 21.8MB 12.0MB/s eta 0:00:09     |█████████▋                      | 38.6MB 15.3MB/s eta 0:00:06     |███████████▏                    | 44.7MB 15.3MB/s eta 0:00:06     |████████████                    | 47.8MB 15.3MB/s eta 0:00:06     |█████████████▎                  | 53.2MB 12.7MB/s eta 0:00:06     |█████████████████▎              | 68.9MB 14.0MB/s eta 0:00:05     |███████████████████▍            | 77.3MB 16.7MB/s eta 0:00:04     |████████████████████████▌       | 98.0MB 16.6MB/s eta 0:00:02     |███████████████████████████     | 107.8MB 19.2MB/s eta 0:00:02\n",
      "\u001b[?25hRequirement already satisfied: typing-extensions in /Library/Frameworks/Python.framework/Versions/3.8/lib/python3.8/site-packages (from torch) (3.7.4.3)\n",
      "Installing collected packages: torch\n",
      "Successfully installed torch-1.9.0\n",
      "\u001b[33mWARNING: You are using pip version 19.2.3, however version 21.1.2 is available.\n",
      "You should consider upgrading via the 'pip install --upgrade pip' command.\u001b[0m\n",
      "Note: you may need to restart the kernel to use updated packages.\n"
     ]
    }
   ],
   "source": [
    "pip install torch"
   ]
  },
  {
   "cell_type": "code",
   "execution_count": 3,
   "id": "d368a439",
   "metadata": {},
   "outputs": [],
   "source": [
    "import torch\n",
    "from torch import nn\n",
    "\n",
    "import math\n",
    "import matplotlib.pyplot as plt"
   ]
  },
  {
   "cell_type": "code",
   "execution_count": 4,
   "id": "a9590bb8",
   "metadata": {},
   "outputs": [
    {
     "data": {
      "text/plain": [
       "<torch._C.Generator at 0x7fa32df17890>"
      ]
     },
     "execution_count": 4,
     "metadata": {},
     "output_type": "execute_result"
    }
   ],
   "source": [
    "torch.manual_seed(111)"
   ]
  },
  {
   "cell_type": "code",
   "execution_count": 24,
   "id": "e29b5dcb",
   "metadata": {},
   "outputs": [],
   "source": [
    "train_data_length = 1024\n",
    "train_data = torch.zeros((train_data_length, 2))\n",
    "train_data[:, 0] = 4 * math.pi * torch.rand(train_data_length)\n",
    "train_data[:, 1] = torch.sin(train_data[:, 0])\n",
    "train_labels = torch.zeros(train_data_length)\n",
    "train_set = [\n",
    "    (train_data[i], train_labels[i]) for i in range(train_data_length)\n",
    "]"
   ]
  },
  {
   "cell_type": "code",
   "execution_count": 25,
   "id": "5a7a0a82",
   "metadata": {},
   "outputs": [
    {
     "data": {
      "text/plain": [
       "[<matplotlib.lines.Line2D at 0x7fa326f96940>]"
      ]
     },
     "execution_count": 25,
     "metadata": {},
     "output_type": "execute_result"
    },
    {
     "data": {
      "image/png": "[encoded data removed]",
      "text/plain": [
       "<Figure size 432x288 with 1 Axes>"
      ]
     },
     "metadata": {
      "needs_background": "light"
     },
     "output_type": "display_data"
    }
   ],
   "source": [
    "plt.plot(train_data[:, 0], train_data[:, 1], \".\")"
   ]
  },
  {
   "cell_type": "code",
   "execution_count": 26,
   "id": "64785019",
   "metadata": {},
   "outputs": [],
   "source": [
    "# DataLoader(dataset, batch_size=1, shuffle=False, sampler=None,\n",
    "#            batch_sampler=None, num_workers=0, collate_fn=None,\n",
    "#            pin_memory=False, drop_last=False, timeout=0,\n",
    "#            worker_init_fn=None, *, prefetch_factor=2,\n",
    "#            persistent_workers=False)\n",
    "\n",
    "batch_size = 32\n",
    "train_loader = torch.utils.data.DataLoader(\n",
    "    train_set, batch_size=batch_size, shuffle=True\n",
    ")"
   ]
  },
  {
   "cell_type": "code",
   "execution_count": 27,
   "id": "878a949b",
   "metadata": {},
   "outputs": [],
   "source": [
    "# NN for Discriminator\n",
    "class Discriminator(nn.Module):\n",
    "    def __init__(self):\n",
    "        super().__init__()\n",
    "        self.model = nn.Sequential(\n",
    "            nn.Linear(2, 256),\n",
    "            nn.ReLU(),\n",
    "            nn.Dropout(0.3),\n",
    "            nn.Linear(256, 128),\n",
    "            nn.ReLU(),\n",
    "            nn.Dropout(0.3),\n",
    "            nn.Linear(128, 64),\n",
    "            nn.ReLU(),\n",
    "            nn.Dropout(0.3),\n",
    "            nn.Linear(64, 1),\n",
    "            nn.Sigmoid(),\n",
    "        )\n",
    "\n",
    "    def forward(self, x):\n",
    "        output = self.model(x)\n",
    "        return output\n",
    "\n",
    "discriminator = Discriminator()"
   ]
  },
  {
   "cell_type": "code",
   "execution_count": 28,
   "id": "b4c5fba2",
   "metadata": {},
   "outputs": [],
   "source": [
    "class Generator(nn.Module):\n",
    "    def __init__(self):\n",
    "        super().__init__()\n",
    "        self.model = nn.Sequential(\n",
    "            nn.Linear(2, 16),\n",
    "            nn.ReLU(),\n",
    "            nn.Linear(16, 32),\n",
    "            nn.ReLU(),\n",
    "            nn.Linear(32, 2),\n",
    "        )\n",
    "\n",
    "    def forward(self, x):\n",
    "        output = self.model(x)\n",
    "        return output\n",
    "\n",
    "generator = Generator()"
   ]
  },
  {
   "cell_type": "code",
   "execution_count": 47,
   "id": "4f0ce633",
   "metadata": {},
   "outputs": [],
   "source": [
    "lr = 0.001\n",
    "num_epochs = 500\n",
    "loss_function = nn.BCELoss()\n",
    "optimizer_discriminator = torch.optim.Adam(discriminator.parameters(), lr=lr)\n",
    "optimizer_generator = torch.optim.Adam(generator.parameters(), lr=lr)"
   ]
  },
  {
   "cell_type": "code",
   "execution_count": 48,
   "id": "02b1ef93",
   "metadata": {},
   "outputs": [
    {
     "name": "stdout",
     "output_type": "stream",
     "text": [
      "Epoch: 0 Loss D.: 0.634308934211731\n",
      "Epoch: 0 Loss G.: 1.0492727756500244\n",
      "Epoch: 10 Loss D.: 0.5874106287956238\n",
      "Epoch: 10 Loss G.: 1.0286537408828735\n",
      "Epoch: 20 Loss D.: 0.617804229259491\n",
      "Epoch: 20 Loss G.: 0.9173839688301086\n",
      "Epoch: 30 Loss D.: 0.49407947063446045\n",
      "Epoch: 30 Loss G.: 1.2827928066253662\n",
      "Epoch: 40 Loss D.: 0.6174103617668152\n",
      "Epoch: 40 Loss G.: 0.9740513563156128\n",
      "Epoch: 50 Loss D.: 0.5867607593536377\n",
      "Epoch: 50 Loss G.: 1.0734893083572388\n",
      "Epoch: 60 Loss D.: 0.5969976782798767\n",
      "Epoch: 60 Loss G.: 1.1924521923065186\n",
      "Epoch: 70 Loss D.: 0.5945090651512146\n",
      "Epoch: 70 Loss G.: 1.7022583484649658\n",
      "Epoch: 80 Loss D.: 0.5386304259300232\n",
      "Epoch: 80 Loss G.: 1.0174459218978882\n",
      "Epoch: 90 Loss D.: 0.5057607293128967\n",
      "Epoch: 90 Loss G.: 1.2483736276626587\n",
      "Epoch: 100 Loss D.: 0.6598978042602539\n",
      "Epoch: 100 Loss G.: 0.9978370070457458\n",
      "Epoch: 110 Loss D.: 0.5601845979690552\n",
      "Epoch: 110 Loss G.: 0.9473928213119507\n",
      "Epoch: 120 Loss D.: 0.6578633189201355\n",
      "Epoch: 120 Loss G.: 0.9129590392112732\n",
      "Epoch: 130 Loss D.: 0.6371569633483887\n",
      "Epoch: 130 Loss G.: 0.8844865560531616\n",
      "Epoch: 140 Loss D.: 0.6337505578994751\n",
      "Epoch: 140 Loss G.: 0.8647096753120422\n",
      "Epoch: 150 Loss D.: 0.6573739051818848\n",
      "Epoch: 150 Loss G.: 0.8957952857017517\n",
      "Epoch: 160 Loss D.: 0.5929999351501465\n",
      "Epoch: 160 Loss G.: 0.8940398097038269\n",
      "Epoch: 170 Loss D.: 0.5896448493003845\n",
      "Epoch: 170 Loss G.: 0.9780750870704651\n",
      "Epoch: 180 Loss D.: 0.6276300549507141\n",
      "Epoch: 180 Loss G.: 0.8568958044052124\n",
      "Epoch: 190 Loss D.: 0.5816923975944519\n",
      "Epoch: 190 Loss G.: 1.4367328882217407\n",
      "Epoch: 200 Loss D.: 0.5259220600128174\n",
      "Epoch: 200 Loss G.: 0.9195773601531982\n",
      "Epoch: 210 Loss D.: 0.4950624704360962\n",
      "Epoch: 210 Loss G.: 1.2906118631362915\n",
      "Epoch: 220 Loss D.: 0.5291123390197754\n",
      "Epoch: 220 Loss G.: 1.0248302221298218\n",
      "Epoch: 230 Loss D.: 0.6019532680511475\n",
      "Epoch: 230 Loss G.: 0.9523671865463257\n",
      "Epoch: 240 Loss D.: 0.5456433296203613\n",
      "Epoch: 240 Loss G.: 1.4225237369537354\n",
      "Epoch: 250 Loss D.: 0.5203760266304016\n",
      "Epoch: 250 Loss G.: 1.1206388473510742\n",
      "Epoch: 260 Loss D.: 0.6270004510879517\n",
      "Epoch: 260 Loss G.: 0.9859586358070374\n",
      "Epoch: 270 Loss D.: 0.6500294208526611\n",
      "Epoch: 270 Loss G.: 1.214906930923462\n",
      "Epoch: 280 Loss D.: 0.5895805358886719\n",
      "Epoch: 280 Loss G.: 0.9904756546020508\n",
      "Epoch: 290 Loss D.: 0.5913205146789551\n",
      "Epoch: 290 Loss G.: 1.0809540748596191\n",
      "Epoch: 300 Loss D.: 0.5942310094833374\n",
      "Epoch: 300 Loss G.: 1.0006966590881348\n",
      "Epoch: 310 Loss D.: 0.5484265089035034\n",
      "Epoch: 310 Loss G.: 1.2445933818817139\n",
      "Epoch: 320 Loss D.: 0.575345516204834\n",
      "Epoch: 320 Loss G.: 1.0630768537521362\n",
      "Epoch: 330 Loss D.: 0.5763249397277832\n",
      "Epoch: 330 Loss G.: 1.0989285707473755\n",
      "Epoch: 340 Loss D.: 0.6588780283927917\n",
      "Epoch: 340 Loss G.: 0.9447068572044373\n",
      "Epoch: 350 Loss D.: 0.5015750527381897\n",
      "Epoch: 350 Loss G.: 1.1035574674606323\n",
      "Epoch: 360 Loss D.: 0.602441132068634\n",
      "Epoch: 360 Loss G.: 0.7400215864181519\n",
      "Epoch: 370 Loss D.: 0.5190062522888184\n",
      "Epoch: 370 Loss G.: 0.8833333253860474\n",
      "Epoch: 380 Loss D.: 0.530713677406311\n",
      "Epoch: 380 Loss G.: 0.9567664265632629\n",
      "Epoch: 390 Loss D.: 0.6941102743148804\n",
      "Epoch: 390 Loss G.: 1.0069360733032227\n",
      "Epoch: 400 Loss D.: 0.5103651881217957\n",
      "Epoch: 400 Loss G.: 1.21147620677948\n",
      "Epoch: 410 Loss D.: 0.5462068319320679\n",
      "Epoch: 410 Loss G.: 1.243558645248413\n",
      "Epoch: 420 Loss D.: 0.5049683451652527\n",
      "Epoch: 420 Loss G.: 1.0068069696426392\n",
      "Epoch: 430 Loss D.: 0.6191784739494324\n",
      "Epoch: 430 Loss G.: 1.0210188627243042\n",
      "Epoch: 440 Loss D.: 0.5747434496879578\n",
      "Epoch: 440 Loss G.: 1.1082196235656738\n",
      "Epoch: 450 Loss D.: 0.6146326661109924\n",
      "Epoch: 450 Loss G.: 0.9358125329017639\n",
      "Epoch: 460 Loss D.: 0.5364165306091309\n",
      "Epoch: 460 Loss G.: 1.4725141525268555\n",
      "Epoch: 470 Loss D.: 0.5969096422195435\n",
      "Epoch: 470 Loss G.: 0.9610510468482971\n",
      "Epoch: 480 Loss D.: 0.5926641821861267\n",
      "Epoch: 480 Loss G.: 1.0293956995010376\n",
      "Epoch: 490 Loss D.: 0.6015264391899109\n",
      "Epoch: 490 Loss G.: 0.9645658731460571\n"
     ]
    }
   ],
   "source": [
    "# Train the GAN\n",
    "\n",
    "for epoch in range(num_epochs):\n",
    "    for n, (real_samples, _) in enumerate(train_loader):\n",
    "        # Data for training the discriminator\n",
    "        real_samples_labels = torch.ones((batch_size, 1)) # torch.ones() to create labels with the value 1 for the real samples\n",
    "        latent_space_samples = torch.randn((batch_size, 2)) # Noise for generator samples\n",
    "        generated_samples = generator(latent_space_samples) # Generator samples\n",
    "        generated_samples_labels = torch.zeros((batch_size, 1)) # Label the generator samples as zero\n",
    "        all_samples = torch.cat((real_samples, generated_samples)) # Concatenate all the samples\n",
    "        all_samples_labels = torch.cat(\n",
    "            (real_samples_labels, generated_samples_labels)\n",
    "        ) # Concatenate sample labels\n",
    "\n",
    "        # Training the discriminator\n",
    "        discriminator.zero_grad() #In PyTorch, it’s necessary to clear the gradients at each training step to avoid accumulating them\n",
    "        output_discriminator = discriminator(all_samples) # Calculate the output of the discriminator using the training data in all_samples.\n",
    "        loss_discriminator = loss_function(\n",
    "            output_discriminator, all_samples_labels)\n",
    "        \n",
    "        loss_discriminator.backward() # Calculate the gradients by backward()\n",
    "        optimizer_discriminator.step() # update the discriminator weights\n",
    "\n",
    "        # Data for training the generator\n",
    "        latent_space_samples = torch.randn((batch_size, 2))\n",
    "\n",
    "        # Training the generator\n",
    "        generator.zero_grad() # clear the gradients \n",
    "        generated_samples = generator(latent_space_samples) #Input only the generator samples\n",
    "        \n",
    "        output_discriminator_generated = discriminator(generated_samples) # Feed the generator’s output into the discriminator and store its output in output_discriminator_generated\n",
    "        \n",
    "        loss_generator = loss_function(\n",
    "            output_discriminator_generated, real_samples_labels\n",
    "        ) # Calculate loss for generator\n",
    "        \n",
    "        loss_generator.backward() # Calculate the gradients by backward()\n",
    "        optimizer_generator.step() # update the discriminator weights\n",
    "        latent_space_samples = torch.randn(100, 2)\n",
    "        # Show loss\n",
    "        if epoch % 10 == 0 and n == batch_size - 1:\n",
    "            print(f\"Epoch: {epoch} Loss D.: {loss_discriminator}\")\n",
    "            print(f\"Epoch: {epoch} Loss G.: {loss_generator}\")"
   ]
  },
  {
   "cell_type": "code",
   "execution_count": 51,
   "id": "c1ebbd02",
   "metadata": {},
   "outputs": [
    {
     "data": {
      "text/plain": [
       "<matplotlib.legend.Legend at 0x7fa3342c5e20>"
      ]
     },
     "execution_count": 51,
     "metadata": {},
     "output_type": "execute_result"
    },
    {
     "data": {
      "image/png": "[encoded data removed]",
      "text/plain": [
       "<Figure size 432x288 with 1 Axes>"
      ]
     },
     "metadata": {
      "needs_background": "light"
     },
     "output_type": "display_data"
    }
   ],
   "source": [
    "latent_space_samples = torch.randn(100, 2)\n",
    "generated_samples = generator(latent_space_samples)\n",
    "generated_samples = generated_samples.detach()\n",
    "plt.plot(train_data[:, 0], train_data[:, 1], \".\",label=\"train_data\")\n",
    "plt.plot(latent_space_samples[:, 0], latent_space_samples[:, 1], \".\",label=\"latent_space_samples\")\n",
    "plt.plot(generated_samples[:, 0], generated_samples[:, 1], \".\",label=\"generated_samples\")\n",
    "plt.legend()"
   ]
  },
  {
   "cell_type": "code",
   "execution_count": null,
   "id": "d3b29647",
   "metadata": {},
   "outputs": [],
   "source": []
  }
 ],
 "metadata": {
  "kernelspec": {
   "display_name": "gan",
   "language": "python",
   "name": "gan"
  },
  "language_info": {
   "codemirror_mode": {
    "name": "ipython",
    "version": 3
   },
   "file_extension": ".py",
   "mimetype": "text/x-python",
   "name": "python",
   "nbconvert_exporter": "python",
   "pygments_lexer": "ipython3",
   "version": "3.8.2"
  }
 },
 "nbformat": 4,
 "nbformat_minor": 5
}
